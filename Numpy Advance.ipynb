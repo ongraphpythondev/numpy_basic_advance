{
 "cells": [
  {
   "cell_type": "code",
   "execution_count": null,
   "id": "8e7640fc",
   "metadata": {},
   "outputs": [],
   "source": [
    "import numpy as np"
   ]
  },
  {
   "cell_type": "markdown",
   "id": "90373206",
   "metadata": {},
   "source": [
    "## Universal functions (ufuncs)"
   ]
  },
  {
   "cell_type": "code",
   "execution_count": 2,
   "id": "feb8c907",
   "metadata": {},
   "outputs": [],
   "source": [
    "arr1 = np.random.randint(1,10 , 10)"
   ]
  },
  {
   "cell_type": "code",
   "execution_count": 3,
   "id": "73ab07c2",
   "metadata": {},
   "outputs": [],
   "source": [
    "arr2 = np.random.randint(1,10 , 10)"
   ]
  },
  {
   "cell_type": "code",
   "execution_count": 4,
   "id": "6c3f1799",
   "metadata": {},
   "outputs": [
    {
     "data": {
      "text/plain": [
       "array([5, 3, 5, 5, 9, 3, 5, 2, 3, 6])"
      ]
     },
     "execution_count": 4,
     "metadata": {},
     "output_type": "execute_result"
    }
   ],
   "source": [
    "arr1"
   ]
  },
  {
   "cell_type": "code",
   "execution_count": 5,
   "id": "a24a6851",
   "metadata": {},
   "outputs": [
    {
     "data": {
      "text/plain": [
       "array([6, 3, 7, 2, 5, 6, 5, 3, 1, 1])"
      ]
     },
     "execution_count": 5,
     "metadata": {},
     "output_type": "execute_result"
    }
   ],
   "source": [
    "arr2"
   ]
  },
  {
   "cell_type": "code",
   "execution_count": 6,
   "id": "7dcb94cb",
   "metadata": {},
   "outputs": [],
   "source": [
    "arr = np.add(arr1 , arr2)  #add function"
   ]
  },
  {
   "cell_type": "code",
   "execution_count": 7,
   "id": "e67c483b",
   "metadata": {},
   "outputs": [
    {
     "data": {
      "text/plain": [
       "array([11,  6, 12,  7, 14,  9, 10,  5,  4,  7])"
      ]
     },
     "execution_count": 7,
     "metadata": {},
     "output_type": "execute_result"
    }
   ],
   "source": [
    "arr"
   ]
  },
  {
   "cell_type": "code",
   "execution_count": 8,
   "id": "e0207aa1",
   "metadata": {},
   "outputs": [],
   "source": [
    "# other function are subtract , negative , multiply , divide , floor_divide , power , mod"
   ]
  },
  {
   "cell_type": "code",
   "execution_count": 9,
   "id": "2df54454",
   "metadata": {},
   "outputs": [
    {
     "data": {
      "text/plain": [
       "2.9444389791664403"
      ]
     },
     "execution_count": 9,
     "metadata": {},
     "output_type": "execute_result"
    }
   ],
   "source": [
    "np.log(19) # we can do the log as well"
   ]
  },
  {
   "cell_type": "code",
   "execution_count": 10,
   "id": "13cc90f5",
   "metadata": {},
   "outputs": [
    {
     "data": {
      "text/plain": [
       "2"
      ]
     },
     "execution_count": 10,
     "metadata": {},
     "output_type": "execute_result"
    }
   ],
   "source": [
    "arr1.min()"
   ]
  },
  {
   "cell_type": "code",
   "execution_count": 11,
   "id": "4a0343c7",
   "metadata": {},
   "outputs": [
    {
     "data": {
      "text/plain": [
       "14"
      ]
     },
     "execution_count": 11,
     "metadata": {},
     "output_type": "execute_result"
    }
   ],
   "source": [
    "arr.max()"
   ]
  },
  {
   "cell_type": "code",
   "execution_count": 12,
   "id": "8564e800",
   "metadata": {},
   "outputs": [
    {
     "data": {
      "text/plain": [
       "85"
      ]
     },
     "execution_count": 12,
     "metadata": {},
     "output_type": "execute_result"
    }
   ],
   "source": [
    "arr.sum()"
   ]
  },
  {
   "cell_type": "code",
   "execution_count": 13,
   "id": "d126561d",
   "metadata": {},
   "outputs": [],
   "source": [
    "arr = np.random.randint(30 , 90 , (4 , 8))"
   ]
  },
  {
   "cell_type": "code",
   "execution_count": 14,
   "id": "2d4a088b",
   "metadata": {},
   "outputs": [
    {
     "data": {
      "text/plain": [
       "array([[47, 62, 36, 41, 39, 38, 66, 84],\n",
       "       [87, 72, 63, 55, 59, 49, 34, 49],\n",
       "       [33, 79, 33, 59, 85, 71, 84, 58],\n",
       "       [83, 73, 44, 38, 68, 68, 42, 65]])"
      ]
     },
     "execution_count": 14,
     "metadata": {},
     "output_type": "execute_result"
    }
   ],
   "source": [
    "arr"
   ]
  },
  {
   "cell_type": "code",
   "execution_count": 15,
   "id": "98db3dd4",
   "metadata": {},
   "outputs": [],
   "source": [
    "#to calculate minimum of all in every row and column"
   ]
  },
  {
   "cell_type": "code",
   "execution_count": 16,
   "id": "eab32163",
   "metadata": {},
   "outputs": [
    {
     "data": {
      "text/plain": [
       "array([33, 62, 33, 38, 39, 38, 34, 49])"
      ]
     },
     "execution_count": 16,
     "metadata": {},
     "output_type": "execute_result"
    }
   ],
   "source": [
    "arr.min(axis = 0)  #column wise"
   ]
  },
  {
   "cell_type": "code",
   "execution_count": 17,
   "id": "5865de58",
   "metadata": {},
   "outputs": [
    {
     "data": {
      "text/plain": [
       "array([36, 34, 33, 38])"
      ]
     },
     "execution_count": 17,
     "metadata": {},
     "output_type": "execute_result"
    }
   ],
   "source": [
    "arr.min(axis = 1)  #row wise"
   ]
  },
  {
   "cell_type": "code",
   "execution_count": 18,
   "id": "97b24a1c",
   "metadata": {},
   "outputs": [],
   "source": [
    "# we must use universal function in numpy because normal min max function that povided by python is act differenty in \n",
    "# multidimentional array and we can use axis in numpy as well\n"
   ]
  },
  {
   "cell_type": "markdown",
   "id": "e917a7d3",
   "metadata": {},
   "source": [
    "## Broadcasting"
   ]
  },
  {
   "cell_type": "code",
   "execution_count": 19,
   "id": "bd8c6f41",
   "metadata": {},
   "outputs": [],
   "source": [
    "# Broadcasting is nothing but a set of rules applied by NumPy to perform unfuncs on arrays of different sizes."
   ]
  },
  {
   "cell_type": "code",
   "execution_count": 20,
   "id": "0e3c6df7",
   "metadata": {},
   "outputs": [],
   "source": [
    "# rule says that the less size array must be streshed equal to larger one then do the operation"
   ]
  },
  {
   "cell_type": "code",
   "execution_count": 21,
   "id": "d23d66f7",
   "metadata": {},
   "outputs": [],
   "source": [
    "arr1 = np.arange(3)"
   ]
  },
  {
   "cell_type": "code",
   "execution_count": 22,
   "id": "a229921c",
   "metadata": {},
   "outputs": [],
   "source": [
    "arr2 = np.arange(3).reshape(3,1) # reshape changes the shape or array"
   ]
  },
  {
   "cell_type": "code",
   "execution_count": 23,
   "id": "f159cec2",
   "metadata": {},
   "outputs": [
    {
     "data": {
      "text/plain": [
       "array([0, 1, 2])"
      ]
     },
     "execution_count": 23,
     "metadata": {},
     "output_type": "execute_result"
    }
   ],
   "source": [
    "arr1"
   ]
  },
  {
   "cell_type": "code",
   "execution_count": 24,
   "id": "8b4291dd",
   "metadata": {},
   "outputs": [
    {
     "data": {
      "text/plain": [
       "array([[0],\n",
       "       [1],\n",
       "       [2]])"
      ]
     },
     "execution_count": 24,
     "metadata": {},
     "output_type": "execute_result"
    }
   ],
   "source": [
    "arr2"
   ]
  },
  {
   "cell_type": "code",
   "execution_count": 25,
   "id": "2905f384",
   "metadata": {},
   "outputs": [],
   "source": [
    "arr3 = np.add(arr1,arr2) # in this they both streshed to the 3,3 size"
   ]
  },
  {
   "cell_type": "code",
   "execution_count": 26,
   "id": "6eaba1f1",
   "metadata": {},
   "outputs": [
    {
     "data": {
      "text/plain": [
       "(3,)"
      ]
     },
     "execution_count": 26,
     "metadata": {},
     "output_type": "execute_result"
    }
   ],
   "source": [
    "arr1.shape #1,3"
   ]
  },
  {
   "cell_type": "code",
   "execution_count": 27,
   "id": "c0a28958",
   "metadata": {},
   "outputs": [
    {
     "data": {
      "text/plain": [
       "(3, 1)"
      ]
     },
     "execution_count": 27,
     "metadata": {},
     "output_type": "execute_result"
    }
   ],
   "source": [
    "arr2.shape"
   ]
  },
  {
   "cell_type": "code",
   "execution_count": 28,
   "id": "076ead71",
   "metadata": {},
   "outputs": [
    {
     "data": {
      "text/plain": [
       "(3, 3)"
      ]
     },
     "execution_count": 28,
     "metadata": {},
     "output_type": "execute_result"
    }
   ],
   "source": [
    "arr3.shape   # they both streshed to the 3,3 size"
   ]
  },
  {
   "cell_type": "markdown",
   "id": "41b2e57c",
   "metadata": {},
   "source": [
    "## Masking"
   ]
  },
  {
   "cell_type": "code",
   "execution_count": 29,
   "id": "40278dba",
   "metadata": {},
   "outputs": [],
   "source": [
    "# It allows us to extract, count, modify or manipulate values in an array based on certain criteria, \n",
    "# these criteria are specified using comparison operators and boolean operators."
   ]
  },
  {
   "cell_type": "code",
   "execution_count": 30,
   "id": "69d31926",
   "metadata": {},
   "outputs": [],
   "source": [
    "arr = np.random.randint(10 , size= (3,4))"
   ]
  },
  {
   "cell_type": "code",
   "execution_count": 31,
   "id": "f48c6425",
   "metadata": {},
   "outputs": [
    {
     "data": {
      "text/plain": [
       "array([[1, 7, 9, 4],\n",
       "       [1, 2, 0, 8],\n",
       "       [4, 5, 9, 6]])"
      ]
     },
     "execution_count": 31,
     "metadata": {},
     "output_type": "execute_result"
    }
   ],
   "source": [
    "arr"
   ]
  },
  {
   "cell_type": "code",
   "execution_count": 32,
   "id": "c14d7608",
   "metadata": {},
   "outputs": [],
   "source": [
    "# print all values where value is less then 5"
   ]
  },
  {
   "cell_type": "code",
   "execution_count": 33,
   "id": "c8771a3d",
   "metadata": {},
   "outputs": [
    {
     "data": {
      "text/plain": [
       "[array([[ True, False, False,  True],\n",
       "        [ True,  True,  True, False],\n",
       "        [ True, False, False, False]])]"
      ]
     },
     "execution_count": 33,
     "metadata": {},
     "output_type": "execute_result"
    }
   ],
   "source": [
    "[arr <5 ] #it give bool array"
   ]
  },
  {
   "cell_type": "code",
   "execution_count": 34,
   "id": "202832c8",
   "metadata": {},
   "outputs": [
    {
     "data": {
      "text/plain": [
       "array([1, 4, 1, 2, 0, 4])"
      ]
     },
     "execution_count": 34,
     "metadata": {},
     "output_type": "execute_result"
    }
   ],
   "source": [
    "arr[arr < 5]  # inner part of square bracker gives the array of boolean and if the value is true so outer 'arr' will print other wise false"
   ]
  },
  {
   "cell_type": "code",
   "execution_count": 35,
   "id": "9c8cb5ff",
   "metadata": {},
   "outputs": [],
   "source": [
    "# we can do the complex queries from that like we do in conditional statement"
   ]
  },
  {
   "cell_type": "code",
   "execution_count": 36,
   "id": "5c62a9bd",
   "metadata": {},
   "outputs": [
    {
     "data": {
      "text/plain": [
       "array([4, 4, 5])"
      ]
     },
     "execution_count": 36,
     "metadata": {},
     "output_type": "execute_result"
    }
   ],
   "source": [
    "arr[(arr < 6 ) & ( arr > 3 )]"
   ]
  },
  {
   "cell_type": "code",
   "execution_count": 37,
   "id": "1e120b20",
   "metadata": {},
   "outputs": [],
   "source": [
    "# The keyword ‘and’ and ‘or’ performs single boolean operation on entire array while \n",
    "# bitwise ‘&’ and ‘|’ performs multiple boolean operations on elements of an array. \n",
    "# Always use bit-wise operators while masking."
   ]
  },
  {
   "cell_type": "markdown",
   "id": "44321e61",
   "metadata": {},
   "source": [
    "## Fancy indexing"
   ]
  },
  {
   "cell_type": "code",
   "execution_count": 38,
   "id": "a3e14e7f",
   "metadata": {},
   "outputs": [],
   "source": [
    "arr = np.random.randint(50 , size = 20)"
   ]
  },
  {
   "cell_type": "code",
   "execution_count": 39,
   "id": "9edb0672",
   "metadata": {},
   "outputs": [
    {
     "data": {
      "text/plain": [
       "array([17,  5, 24, 38, 23, 27, 31,  6, 10, 39,  2,  9,  3, 13, 47, 11, 16,\n",
       "       29, 21,  3])"
      ]
     },
     "execution_count": 39,
     "metadata": {},
     "output_type": "execute_result"
    }
   ],
   "source": [
    "arr"
   ]
  },
  {
   "cell_type": "code",
   "execution_count": 40,
   "id": "413f9cae",
   "metadata": {},
   "outputs": [
    {
     "name": "stdout",
     "output_type": "stream",
     "text": [
      "24 6\n"
     ]
    }
   ],
   "source": [
    "print(arr[2] , arr[7])"
   ]
  },
  {
   "cell_type": "code",
   "execution_count": 41,
   "id": "acdaefae",
   "metadata": {},
   "outputs": [],
   "source": [
    "#we can improve that "
   ]
  },
  {
   "cell_type": "code",
   "execution_count": 42,
   "id": "abc66077",
   "metadata": {},
   "outputs": [
    {
     "data": {
      "text/plain": [
       "array([24,  6])"
      ]
     },
     "execution_count": 42,
     "metadata": {},
     "output_type": "execute_result"
    }
   ],
   "source": [
    "arr[[2,7]]  # it takes array of indexes "
   ]
  },
  {
   "cell_type": "code",
   "execution_count": 43,
   "id": "80d90ca3",
   "metadata": {},
   "outputs": [],
   "source": [
    "# for 2d array"
   ]
  },
  {
   "cell_type": "code",
   "execution_count": 44,
   "id": "27d8f581",
   "metadata": {},
   "outputs": [],
   "source": [
    "arr = np.random.randint(30 , size = (10,5))"
   ]
  },
  {
   "cell_type": "code",
   "execution_count": 45,
   "id": "1044347c",
   "metadata": {},
   "outputs": [
    {
     "data": {
      "text/plain": [
       "array([[15, 12, 27,  1, 21],\n",
       "       [17, 29, 14, 12,  3],\n",
       "       [ 2,  7, 13,  4,  4],\n",
       "       [14,  8,  8, 17, 22],\n",
       "       [ 1, 23,  8, 28,  3],\n",
       "       [ 3,  1, 23,  2, 29],\n",
       "       [23, 23, 19, 23, 26],\n",
       "       [14,  5,  7, 13, 12],\n",
       "       [ 5, 18, 26,  8,  0],\n",
       "       [ 0,  0, 24, 26,  9]])"
      ]
     },
     "execution_count": 45,
     "metadata": {},
     "output_type": "execute_result"
    }
   ],
   "source": [
    "arr"
   ]
  },
  {
   "cell_type": "code",
   "execution_count": 46,
   "id": "55a565c7",
   "metadata": {},
   "outputs": [
    {
     "data": {
      "text/plain": [
       "array([ 4,  8,  4, 14])"
      ]
     },
     "execution_count": 46,
     "metadata": {},
     "output_type": "execute_result"
    }
   ],
   "source": [
    "row = [2,3,2,1]\n",
    "col = [3,1,3,2]\n",
    "arr[row , col]"
   ]
  },
  {
   "cell_type": "code",
   "execution_count": 47,
   "id": "f853d156",
   "metadata": {},
   "outputs": [
    {
     "data": {
      "text/plain": [
       "array([17,  8, 17,  8])"
      ]
     },
     "execution_count": 47,
     "metadata": {},
     "output_type": "execute_result"
    }
   ],
   "source": [
    "arr[ 3, col]"
   ]
  },
  {
   "cell_type": "markdown",
   "id": "779e538e",
   "metadata": {},
   "source": [
    "## Sorting"
   ]
  },
  {
   "cell_type": "code",
   "execution_count": 48,
   "id": "d5ac8e2e",
   "metadata": {},
   "outputs": [],
   "source": [
    "# np.sort is a more efficient sorting function than Python’s built-in sort function. \n",
    "# Additionally, np.sort is aware of dimensions"
   ]
  },
  {
   "cell_type": "code",
   "execution_count": 49,
   "id": "6fb8db1c",
   "metadata": {},
   "outputs": [],
   "source": [
    "arr = np.random.randint(30 , size = 20)"
   ]
  },
  {
   "cell_type": "code",
   "execution_count": 50,
   "id": "61647b78",
   "metadata": {},
   "outputs": [
    {
     "data": {
      "text/plain": [
       "array([15, 22, 11, 23, 15, 17,  9, 10,  2, 25, 22,  0, 15, 23, 12, 28,  2,\n",
       "        6, 14, 22])"
      ]
     },
     "execution_count": 50,
     "metadata": {},
     "output_type": "execute_result"
    }
   ],
   "source": [
    "arr"
   ]
  },
  {
   "cell_type": "code",
   "execution_count": 51,
   "id": "e5572dd0",
   "metadata": {},
   "outputs": [],
   "source": [
    "arr.sort()  # the sorting in numpy is in-place sorting means we lost the order of previous array"
   ]
  },
  {
   "cell_type": "code",
   "execution_count": 52,
   "id": "097c36e0",
   "metadata": {},
   "outputs": [
    {
     "data": {
      "text/plain": [
       "array([ 0,  2,  2,  6,  9, 10, 11, 12, 14, 15, 15, 15, 17, 22, 22, 22, 23,\n",
       "       23, 25, 28])"
      ]
     },
     "execution_count": 52,
     "metadata": {},
     "output_type": "execute_result"
    }
   ],
   "source": [
    "arr"
   ]
  },
  {
   "cell_type": "code",
   "execution_count": 53,
   "id": "002d50bf",
   "metadata": {},
   "outputs": [],
   "source": [
    "arr = np.random.randint(30 , size = (10,10))"
   ]
  },
  {
   "cell_type": "code",
   "execution_count": 54,
   "id": "f8a592ab",
   "metadata": {},
   "outputs": [
    {
     "data": {
      "text/plain": [
       "array([[13, 10,  6, 15, 15, 14, 21,  0, 26, 21],\n",
       "       [23,  6,  8, 14,  0, 20, 10, 22, 13, 13],\n",
       "       [21, 29, 18, 28, 24,  7, 16,  6,  6, 17],\n",
       "       [ 0,  1,  7, 15, 28, 22,  7, 20,  6, 22],\n",
       "       [ 4,  1, 27, 11, 17,  4,  4, 21, 26, 16],\n",
       "       [ 1, 17,  6, 16, 15, 19,  7, 17, 24,  4],\n",
       "       [22, 24, 20, 11,  7,  3, 17, 19, 14, 28],\n",
       "       [28,  6, 16, 23,  6, 27, 27, 21, 15, 10],\n",
       "       [ 8, 19,  0, 15, 24, 27, 27, 19,  4,  9],\n",
       "       [12,  6,  4,  4, 28,  5, 22, 24,  9, 12]])"
      ]
     },
     "execution_count": 54,
     "metadata": {},
     "output_type": "execute_result"
    }
   ],
   "source": [
    "arr"
   ]
  },
  {
   "cell_type": "code",
   "execution_count": 56,
   "id": "1b3ee295",
   "metadata": {},
   "outputs": [],
   "source": [
    "arr.sort()"
   ]
  },
  {
   "cell_type": "code",
   "execution_count": 57,
   "id": "6e717235",
   "metadata": {},
   "outputs": [
    {
     "data": {
      "text/plain": [
       "array([[ 0,  6, 10, 13, 14, 15, 15, 21, 21, 26],\n",
       "       [ 0,  6,  8, 10, 13, 13, 14, 20, 22, 23],\n",
       "       [ 6,  6,  7, 16, 17, 18, 21, 24, 28, 29],\n",
       "       [ 0,  1,  6,  7,  7, 15, 20, 22, 22, 28],\n",
       "       [ 1,  4,  4,  4, 11, 16, 17, 21, 26, 27],\n",
       "       [ 1,  4,  6,  7, 15, 16, 17, 17, 19, 24],\n",
       "       [ 3,  7, 11, 14, 17, 19, 20, 22, 24, 28],\n",
       "       [ 6,  6, 10, 15, 16, 21, 23, 27, 27, 28],\n",
       "       [ 0,  4,  8,  9, 15, 19, 19, 24, 27, 27],\n",
       "       [ 4,  4,  5,  6,  9, 12, 12, 22, 24, 28]])"
      ]
     },
     "execution_count": 57,
     "metadata": {},
     "output_type": "execute_result"
    }
   ],
   "source": [
    "arr"
   ]
  },
  {
   "cell_type": "code",
   "execution_count": null,
   "id": "13f10a0e",
   "metadata": {},
   "outputs": [],
   "source": []
  }
 ],
 "metadata": {
  "kernelspec": {
   "display_name": "Python 3 (ipykernel)",
   "language": "python",
   "name": "python3"
  },
  "language_info": {
   "codemirror_mode": {
    "name": "ipython",
    "version": 3
   },
   "file_extension": ".py",
   "mimetype": "text/x-python",
   "name": "python",
   "nbconvert_exporter": "python",
   "pygments_lexer": "ipython3",
   "version": "3.10.0"
  }
 },
 "nbformat": 4,
 "nbformat_minor": 5
}
